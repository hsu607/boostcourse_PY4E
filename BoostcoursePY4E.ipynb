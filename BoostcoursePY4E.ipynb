{
  "nbformat": 4,
  "nbformat_minor": 0,
  "metadata": {
    "colab": {
      "provenance": []
    },
    "kernelspec": {
      "name": "python3",
      "display_name": "Python 3"
    },
    "language_info": {
      "name": "python"
    }
  },
  "cells": [
    {
      "cell_type": "markdown",
      "source": [
        "## 1주차 미션 Q4."
      ],
      "metadata": {
        "id": "02Hyr5K_OzmF"
      }
    },
    {
      "cell_type": "code",
      "execution_count": null,
      "metadata": {
        "colab": {
          "base_uri": "https://localhost:8080/"
        },
        "id": "RfvtHX5FPWrx",
        "outputId": "b1497af3-df92-419c-8c70-b26ae59a65fe"
      },
      "outputs": [
        {
          "output_type": "stream",
          "name": "stdout",
          "text": [
            "한국나이: 23\n",
            "생일이 지났습니까? 맞으면 0 아니면 -1 : 0\n",
            "미국나이: 22\n"
          ]
        }
      ],
      "source": [
        "age = int(input(\"한국나이: \"))\n",
        "birth = int(input(\"생일이 지났습니까? 맞으면 0 아니면 -1 : \"))\n",
        "age = age + birth -1\n",
        "print('미국나이:', age)"
      ]
    },
    {
      "cell_type": "markdown",
      "source": [
        "## 2주차 미션"
      ],
      "metadata": {
        "id": "lKg5VlbjJyto"
      }
    },
    {
      "cell_type": "markdown",
      "source": [
        "2주차 미션 Q1."
      ],
      "metadata": {
        "id": "SNhvjDbzO5Me"
      }
    },
    {
      "cell_type": "code",
      "source": [
        "def rsp(my):\n",
        "  import random\n",
        "  computer = random.randint(0,2)\n",
        "  if my == '0':\n",
        "     my = '가위'\n",
        "  elif my == '1':\n",
        "    my = '바위'\n",
        "  elif my == '2':\n",
        "    my = '보'\n",
        "\n",
        "  if computer == 0:\n",
        "    computer = '가위'\n",
        "  elif computer == 1:\n",
        "    computer = '바위'\n",
        "  elif computer == 2:\n",
        "    computer = '보'\n",
        "  \n",
        "  if my == computer:\n",
        "    result = '비김'\n",
        "  \n",
        "  if (my == '가위' and computer == '보') or (my == '바위' and computer == '가위') or (my == '보' and computer == '바위'):\n",
        "    result = '나 승리!'\n",
        "  if (my == '보' and computer == '가위') or (my == '가위' and computer == '바위') or (my == '바위' and computer == '보'):\n",
        "    result = '컴퓨터 승리!'\n",
        "      \n",
        "  print('나 :', my)\n",
        "  print('컴퓨터 :', computer)\n",
        "  print(result)\n",
        "  \n",
        "my = input('가위(0), 바위(1), 보(2) 중에 하나를 선택하세요: ')\n",
        "rsp(my)"
      ],
      "metadata": {
        "colab": {
          "base_uri": "https://localhost:8080/"
        },
        "id": "nWyxw3RiO8tj",
        "outputId": "a0deaa87-8ec1-4409-aed4-b5a923426882"
      },
      "execution_count": null,
      "outputs": [
        {
          "output_type": "stream",
          "name": "stdout",
          "text": [
            "가위(0), 바위(1), 보(2) 중에 하나를 선택하세요: 보\n",
            "나 : 보\n",
            "컴퓨터 : 바위\n",
            "나 승리!\n"
          ]
        }
      ]
    },
    {
      "cell_type": "markdown",
      "source": [
        "2주차 미션 Q2."
      ],
      "metadata": {
        "id": "RPHMkHp5bvaI"
      }
    },
    {
      "cell_type": "code",
      "source": [
        "def yearly_payment(monthly_payment):\n",
        "   \n",
        "   try:\n",
        "     before = monthly_payment * 12\n",
        "\n",
        "     if before <= 1200:\n",
        "       after = before * 0.94\n",
        "     elif before <= 4600:\n",
        "       after = before * 0.85\n",
        "     elif before <= 8800:\n",
        "       after = before * 0.76\n",
        "     elif before <= 15000:\n",
        "       after = before * 0.65\n",
        "     elif before <= 30000:\n",
        "       after = before * 0.62\n",
        "     elif before <= 50000:\n",
        "       after = before * 0.60\n",
        "     else:\n",
        "       after = before * 0.58\n",
        "  \n",
        "     print('세전 연봉:', before, '만원')\n",
        "     print('세후 연봉:', after, '만원')\n",
        "  \n",
        "   except: \n",
        "     print('잘못된 입력입니다.')\n",
        "\n",
        "monthly_payment = int(input('월급을 입력하세요(예:300만원이면 300) : '))\n",
        "yearly_payment(monthly_payment)"
      ],
      "metadata": {
        "colab": {
          "base_uri": "https://localhost:8080/"
        },
        "id": "D3H5WDBsSOeM",
        "outputId": "caff389a-7caa-4aa4-8f18-f6854c1f0a68"
      },
      "execution_count": null,
      "outputs": [
        {
          "output_type": "stream",
          "name": "stdout",
          "text": [
            "월급을 입력하세요(예:300만원이면 300) : 400\n",
            "세전 연봉: 4800 만원\n",
            "세후 연봉: 3648.0 만원\n"
          ]
        }
      ]
    },
    {
      "cell_type": "markdown",
      "source": [
        "2주차 미션 Q3."
      ],
      "metadata": {
        "id": "UhWDw9aEbyo9"
      }
    },
    {
      "cell_type": "code",
      "source": [
        "def grader(name, score):\n",
        "  \n",
        "  if score >= 95:\n",
        "    grade = 'A+'\n",
        "  elif score >= 90:\n",
        "    grade = 'A'\n",
        "  elif score >= 85:\n",
        "    grade = 'B+'\n",
        "  elif score >= 80:\n",
        "    grade = 'B'\n",
        "  elif score >= 75:\n",
        "    grade = 'C+'\n",
        "  elif score >= 70:\n",
        "    grade = 'C'\n",
        "  elif score >= 65:\n",
        "    grade = 'D+'\n",
        "  elif score >= 60:\n",
        "    grade = 'D'\n",
        "  elif score < 60:\n",
        "    grade = 'F'\n",
        "  \n",
        "  print('학생이름 :', name)\n",
        "  print('점수 :', score, '점')\n",
        "  print('학점 :', grade)\n",
        "\n",
        "name = input('이름을 입력하세요 : ')\n",
        "score = int(input('점수를 입력하세요 : '))\n",
        "grader(name, score)"
      ],
      "metadata": {
        "colab": {
          "base_uri": "https://localhost:8080/"
        },
        "id": "UOA128F3b2FH",
        "outputId": "9d6ee439-61c1-4f8b-d2c3-a036732bf43e"
      },
      "execution_count": null,
      "outputs": [
        {
          "output_type": "stream",
          "name": "stdout",
          "text": [
            "이름을 입력하세요 : 유현수\n",
            "점수를 입력하세요 : 80\n",
            "학생이름 ; 유현수\n",
            "점수 : 80 점\n",
            "학점 : B\n"
          ]
        }
      ]
    },
    {
      "cell_type": "markdown",
      "source": [
        "2주차 미션 Q4."
      ],
      "metadata": {
        "id": "X7wbEu1ed-DX"
      }
    },
    {
      "cell_type": "code",
      "source": [
        "def bus_fair(age, type):\n",
        "\n",
        "  if age < 8 or age >= 75:\n",
        "    fair = '무료'\n",
        "  elif age < 14:\n",
        "    fair = '450원'\n",
        "  elif age < 20:\n",
        "    if type == '카드':\n",
        "      fair = '720원'\n",
        "    elif type == '현금':\n",
        "      fair = '1000원'\n",
        "  elif age >= 20:\n",
        "    if type == '카드':\n",
        "      fair = '1200원'\n",
        "    elif type == '현금':\n",
        "      fair = '1300원'\n",
        "\n",
        "  print('나이 :', age)\n",
        "  print('지불유형 :', type)\n",
        "  print('버스요금 :', fair)\n",
        "\n",
        "age = int(input('나이를 입력하세요 : '))\n",
        "type = input('지불유형을 선택하세요(카드 또는 현금) : ')\n",
        "bus_fair(age, type)"
      ],
      "metadata": {
        "colab": {
          "base_uri": "https://localhost:8080/"
        },
        "id": "-P0NJ7_TeA9R",
        "outputId": "9f8ed21a-2939-4ec6-b921-8b75e0fe9740"
      },
      "execution_count": null,
      "outputs": [
        {
          "output_type": "stream",
          "name": "stdout",
          "text": [
            "나이를 입력하세요 : 20\n",
            "지불유형을 선택하세요(카드 또는 현금) : 현금\n",
            "나이 : 20\n",
            "지불유형 : 현금\n",
            "버스요금 : 1300원\n"
          ]
        }
      ]
    },
    {
      "cell_type": "markdown",
      "source": [
        "## 3주차 미션"
      ],
      "metadata": {
        "id": "85omlGqQKDnz"
      }
    },
    {
      "cell_type": "markdown",
      "source": [
        "3주차 미션 Q1."
      ],
      "metadata": {
        "id": "PtwlY2ZOIeeQ"
      }
    },
    {
      "cell_type": "code",
      "source": [
        "def gugudan(number):\n",
        "  print(number, '단')\n",
        "  \n",
        "  a = 1\n",
        "  while True:\n",
        "    result = number * a\n",
        "    if result > 50:\n",
        "      break\n",
        "    print(number, 'X', a, '=', result)\n",
        "    a = a + 2\n",
        "\n",
        "number = int(input(\"몇 단?: \"))\n",
        "gugudan(number)"
      ],
      "metadata": {
        "colab": {
          "base_uri": "https://localhost:8080/"
        },
        "id": "GQUEDmcdIkSK",
        "outputId": "a75ca5b0-d147-47fa-8370-b5574761648e"
      },
      "execution_count": null,
      "outputs": [
        {
          "output_type": "stream",
          "name": "stdout",
          "text": [
            "몇 단?: 7\n",
            "7 단\n",
            "7 X 1 = 7\n",
            "7 X 3 = 21\n",
            "7 X 5 = 35\n",
            "7 X 7 = 49\n"
          ]
        }
      ]
    },
    {
      "cell_type": "markdown",
      "source": [
        "3주차 미션 Q3."
      ],
      "metadata": {
        "id": "n_KyhSOAKyf_"
      }
    },
    {
      "cell_type": "code",
      "source": [
        "def find_even_number(n, m):\n",
        "  numbers = [i for i in range(n,m+1)]\n",
        "  for number in numbers:\n",
        "    if number % 2 == 1:\n",
        "      continue\n",
        "    print(number, '짝수')\n",
        "\n",
        "n = int(input(\"첫 번째 수 입력 : \"))\n",
        "m = int(input(\"두 번째 수 입력 : \"))\n",
        "find_even_number(n, m)"
      ],
      "metadata": {
        "id": "36C68g5kKyFC"
      },
      "execution_count": null,
      "outputs": []
    },
    {
      "cell_type": "markdown",
      "source": [
        "3주차 미션 Q4."
      ],
      "metadata": {
        "id": "7BvhNh3OOEAw"
      }
    },
    {
      "cell_type": "code",
      "source": [
        "def count_prime_number(n, m):\n",
        "  numbers = [i for i in range(n,m+1)]\n",
        "  for number in numbers:\n",
        "    \n",
        "\n",
        "n = int(input(\"첫 번째 수 입력 : \"))\n",
        "m = int(input(\"두 번째 수 입력 : \"))\n",
        "count_prime_number(n, m)"
      ],
      "metadata": {
        "id": "8jBNCbU4OJdt"
      },
      "execution_count": null,
      "outputs": []
    },
    {
      "cell_type": "markdown",
      "source": [
        "## 4주차 미션"
      ],
      "metadata": {
        "id": "IsrZj-TzKJtX"
      }
    },
    {
      "cell_type": "markdown",
      "source": [
        "4주차 미션 Q4."
      ],
      "metadata": {
        "id": "LiYG3e3IKMGX"
      }
    },
    {
      "cell_type": "code",
      "source": [
        "a = \"500629-23422222\"\n",
        "a[7]"
      ],
      "metadata": {
        "colab": {
          "base_uri": "https://localhost:8080/",
          "height": 35
        },
        "id": "FA6d3_VhLZ5b",
        "outputId": "1d5e7901-80e7-493f-bc3b-37ae10bad7c0"
      },
      "execution_count": null,
      "outputs": [
        {
          "output_type": "execute_result",
          "data": {
            "text/plain": [
              "'2'"
            ],
            "application/vnd.google.colaboratory.intrinsic+json": {
              "type": "string"
            }
          },
          "metadata": {},
          "execution_count": 6
        }
      ]
    },
    {
      "cell_type": "code",
      "source": [
        "def check_id(a):\n",
        "  year = a[0:2]\n",
        "  month = a[2:4]\n",
        "  sex = a[7]\n",
        "\n",
        "  if sex == '1' or '3':\n",
        "    sex = '남자'\n",
        "  elif sex == '2' or '4':\n",
        "    sex = '여자'\n",
        "\n",
        "  if 0<= int(year) <= 21:\n",
        "    check = input('2000년 이후 출생자 입니까? 맞으면 o 아니면 x : ')\n",
        "    if check == 'o' and (sex == '1' or '2'):\n",
        "      return('잘못된 번호입니다.')\n",
        "    else:\n",
        "      pass\n",
        "  print(year + '년', month + '월', sex)"
      ],
      "metadata": {
        "id": "woaLWuTUKOad"
      },
      "execution_count": null,
      "outputs": []
    },
    {
      "cell_type": "code",
      "source": [
        "a = \"500629-2222222\"\n",
        "check_id(a)"
      ],
      "metadata": {
        "colab": {
          "base_uri": "https://localhost:8080/"
        },
        "id": "IgBIox3wP93L",
        "outputId": "bdfa02c6-a76b-4429-beb5-34c26265e46d"
      },
      "execution_count": null,
      "outputs": [
        {
          "output_type": "stream",
          "name": "stdout",
          "text": [
            "50년 06월 남자\n"
          ]
        }
      ]
    },
    {
      "cell_type": "code",
      "source": [
        "a = \"000629-2222222\"\n",
        "check_id(a)"
      ],
      "metadata": {
        "colab": {
          "base_uri": "https://localhost:8080/",
          "height": 53
        },
        "id": "Jfrt103eP_7m",
        "outputId": "73b20498-4c48-4ed8-80b6-f853e05f0e0d"
      },
      "execution_count": null,
      "outputs": [
        {
          "name": "stdout",
          "output_type": "stream",
          "text": [
            "2000년 이후 출생자 입니까? 맞으면 o 아니면 x : o\n"
          ]
        },
        {
          "output_type": "execute_result",
          "data": {
            "text/plain": [
              "'잘못된 번호입니다.'"
            ],
            "application/vnd.google.colaboratory.intrinsic+json": {
              "type": "string"
            }
          },
          "metadata": {},
          "execution_count": 19
        }
      ]
    },
    {
      "cell_type": "code",
      "source": [
        "a = \"000629-4222222\"\n",
        "check_id(a)"
      ],
      "metadata": {
        "colab": {
          "base_uri": "https://localhost:8080/",
          "height": 53
        },
        "id": "YJdJLiDhQBON",
        "outputId": "069436c7-1c47-4f39-9f58-8da56df23f27"
      },
      "execution_count": null,
      "outputs": [
        {
          "name": "stdout",
          "output_type": "stream",
          "text": [
            "2000년 이후 출생자 입니까? 맞으면 o 아니면 x : o\n"
          ]
        },
        {
          "output_type": "execute_result",
          "data": {
            "text/plain": [
              "'잘못된 번호입니다.'"
            ],
            "application/vnd.google.colaboratory.intrinsic+json": {
              "type": "string"
            }
          },
          "metadata": {},
          "execution_count": 34
        }
      ]
    },
    {
      "cell_type": "markdown",
      "source": [
        "## 5주차 미션"
      ],
      "metadata": {
        "id": "Hge32xn-DraH"
      }
    },
    {
      "cell_type": "code",
      "source": [
        "def bs31():\n",
        "    print(\"베스킨라빈스 써리원 게임\")\n",
        "    print(\"------------------\")\n",
        "    import random\n",
        "    number = 0\n",
        "    while True:\n",
        "        my = input(\"My turn - 숫자를 입력하세요: \")\n",
        "        my = my.split()\n",
        "        if int(my[0]) != number + 1 or len(my) > 3:\n",
        "            print(\"숫자를 제대로 입력하세요\")\n",
        "            continue\n",
        "        if len(my) == 2:\n",
        "            if int(my[1]) - int(my[0]) != 1:\n",
        "                print(\"연속된 숫자만 입력하세요\")\n",
        "                continue\n",
        "        if len(my) == 3:\n",
        "            if int(my[2]) - int(my[1]) != 1 or int(my[1]) - int(my[0]) != 1:\n",
        "                print(\"연속된 숫자만 입력하세요\")\n",
        "                continue\n",
        "\n",
        "        \n",
        "        number = int(my[-1])\n",
        "        print(f\"현재 숫자 : {number}\")\n",
        "        \n",
        "        if number >= 31:\n",
        "            print(\"패배\")\n",
        "            break\n",
        "        \n",
        "        computer = []\n",
        "        computer_turn_num = random.randint(1,3)\n",
        "        for i in range(computer_turn_num):\n",
        "            number += 1\n",
        "            if number > 31:\n",
        "                number = number - 1\n",
        "                continue\n",
        "            computer.append(number)\n",
        "            print(f\"컴퓨터 : {computer[-1]}\")\n",
        "        print(f\"현재 숫자 : {number}\")\n",
        "        print()\n",
        "        if 31 in computer:\n",
        "            print(\"승리!\")\n",
        "            break\n",
        "    print(\"게임 종료\")\n",
        "bs31()"
      ],
      "metadata": {
        "colab": {
          "base_uri": "https://localhost:8080/"
        },
        "id": "6BPuHBJcFO5r",
        "outputId": "405831bd-6809-464e-b7a2-66b58a0c005e"
      },
      "execution_count": null,
      "outputs": [
        {
          "metadata": {
            "tags": null
          },
          "name": "stdout",
          "output_type": "stream",
          "text": [
            "베스킨라빈스 써리원 게임\n",
            "------------------\n",
            "현재 숫자 : 3\n",
            "컴퓨터 : 4\n",
            "컴퓨터 : 5\n",
            "컴퓨터 : 6\n",
            "현재 숫자 : 6\n",
            "\n"
          ]
        }
      ]
    }
  ]
}